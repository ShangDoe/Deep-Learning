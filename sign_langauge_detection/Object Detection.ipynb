{
 "cells": [
  {
   "cell_type": "code",
   "execution_count": 1,
   "id": "97f617c6-6560-46a1-9d84-0ebd25b3c84a",
   "metadata": {},
   "outputs": [],
   "source": [
    "import cv2\n",
    "import os\n",
    "import uuid\n",
    "import time\n",
    "import numpy as np"
   ]
  },
  {
   "cell_type": "code",
   "execution_count": 3,
   "id": "953ce12e-95a3-4b31-8f10-e5bf462d0340",
   "metadata": {},
   "outputs": [],
   "source": [
    "IMAGE_PATH = \"Tensorflow/workspace/images/collectedimages/\"\n",
    "LABEL_PATH = \"Tensorflow/workspace/annotations/\""
   ]
  },
  {
   "cell_type": "code",
   "execution_count": 4,
   "id": "c0e337d9-85a5-41ab-a685-9a04b189acb1",
   "metadata": {},
   "outputs": [],
   "source": [
    "labels = [\"hello\", \"yes\", \"no\", \"thanks\", \"iloveyou\", \"mamamia\"]\n",
    "num_imgs =  15"
   ]
  },
  {
   "cell_type": "markdown",
   "id": "e8db6beb-15e3-46ff-810c-58807b7a9c0c",
   "metadata": {},
   "source": [
    "# Collecting and Labeling Images"
   ]
  },
  {
   "cell_type": "code",
   "execution_count": null,
   "id": "f4298024-b462-4738-9a6a-bae305c2f20e",
   "metadata": {
    "scrolled": true
   },
   "outputs": [],
   "source": [
    "for label in labels:\n",
    "    !mkdir {\"Tensorflow\\workspace\\images\\collectedimages\\\\\" + label}\n",
    "    cap = cv2.VideoCapture(0)QQQQ\n",
    "    print(f\"Collecting Images for {label}\")\n",
    "    time.sleep(5)\n",
    "    for img_num in range(num_imgs):\n",
    "        ret, frame = cap.read()\n",
    "        image_name = os.path.join(IMAGE_PATH, label, f\"{label}.{str(uuid.uuid1())}.jpg\")\n",
    "        cv2.imwrite(image_name, frame)\n",
    "        cv2.imshow(\"frame\", frame)\n",
    "        time.sleep(2)\n",
    "\n",
    "        if cv2.waitKey(1) & 0xFF == ord('q'):\n",
    "            cv2.destroyAllWindows()\n",
    "    \n",
    "    cap.release()        "
   ]
  },
  {
   "cell_type": "code",
   "execution_count": 2,
   "id": "f7648b2b-2a7d-4ca9-ab18-543bd2b812e4",
   "metadata": {
    "collapsed": true,
    "jupyter": {
     "outputs_hidden": true
    },
    "scrolled": true
   },
   "outputs": [
    {
     "name": "stdout",
     "output_type": "stream",
     "text": [
      "Cancel creation.\n",
      "Cancel creation.\n",
      "Cancel creation.\n",
      "Image:C:\\Users\\Batlagh\\Projects\\object-detection\\Tensorflow\\workspace\\images\\train\\hello.3ab23416-1a79-11ef-81cd-f02f74f4bb66.jpg -> Annotation:C:/Users/Batlagh/Projects/object-detection/Tensorflow/workspace/images/train\\hello.3ab23416-1a79-11ef-81cd-f02f74f4bb66.xml\n",
      "Image:C:\\Users\\Batlagh\\Projects\\object-detection\\Tensorflow\\workspace\\images\\train\\hello.3be77589-1a79-11ef-a30d-f02f74f4bb66.jpg -> Annotation:C:/Users/Batlagh/Projects/object-detection/Tensorflow/workspace/images/train\\hello.3be77589-1a79-11ef-a30d-f02f74f4bb66.xml\n",
      "Image:C:\\Users\\Batlagh\\Projects\\object-detection\\Tensorflow\\workspace\\images\\train\\hello.3d1dfbf4-1a79-11ef-b70f-f02f74f4bb66.jpg -> Annotation:C:/Users/Batlagh/Projects/object-detection/Tensorflow/workspace/images/train\\hello.3d1dfbf4-1a79-11ef-b70f-f02f74f4bb66.xml\n",
      "Image:C:\\Users\\Batlagh\\Projects\\object-detection\\Tensorflow\\workspace\\images\\train\\hello.3e56fd9c-1a79-11ef-b576-f02f74f4bb66.jpg -> Annotation:C:/Users/Batlagh/Projects/object-detection/Tensorflow/workspace/images/train\\hello.3e56fd9c-1a79-11ef-b576-f02f74f4bb66.xml\n",
      "Image:C:\\Users\\Batlagh\\Projects\\object-detection\\Tensorflow\\workspace\\images\\train\\hello.3f8c1c11-1a79-11ef-a427-f02f74f4bb66.jpg -> Annotation:C:/Users/Batlagh/Projects/object-detection/Tensorflow/workspace/images/train\\hello.3f8c1c11-1a79-11ef-a427-f02f74f4bb66.xml\n",
      "Image:C:\\Users\\Batlagh\\Projects\\object-detection\\Tensorflow\\workspace\\images\\train\\hello.40c35fc7-1a79-11ef-8e28-f02f74f4bb66.jpg -> Annotation:C:/Users/Batlagh/Projects/object-detection/Tensorflow/workspace/images/train\\hello.40c35fc7-1a79-11ef-8e28-f02f74f4bb66.xml\n",
      "Image:C:\\Users\\Batlagh\\Projects\\object-detection\\Tensorflow\\workspace\\images\\train\\hello.41f83593-1a79-11ef-9458-f02f74f4bb66.jpg -> Annotation:C:/Users/Batlagh/Projects/object-detection/Tensorflow/workspace/images/train\\hello.41f83593-1a79-11ef-9458-f02f74f4bb66.xml\n",
      "Image:C:\\Users\\Batlagh\\Projects\\object-detection\\Tensorflow\\workspace\\images\\train\\hello.46d25e75-1a79-11ef-8667-f02f74f4bb66.jpg -> Annotation:C:/Users/Batlagh/Projects/object-detection/Tensorflow/workspace/images/train\\hello.46d25e75-1a79-11ef-8667-f02f74f4bb66.xml\n",
      "Image:C:\\Users\\Batlagh\\Projects\\object-detection\\Tensorflow\\workspace\\images\\train\\hello.432e2c67-1a79-11ef-aab0-f02f74f4bb66.jpg -> Annotation:C:/Users/Batlagh/Projects/object-detection/Tensorflow/workspace/images/train\\hello.432e2c67-1a79-11ef-aab0-f02f74f4bb66.xml\n",
      "Cancel creation.\n",
      "Image:C:\\Users\\Batlagh\\Projects\\object-detection\\Tensorflow\\workspace\\images\\train\\hello.459d3dea-1a79-11ef-b6b2-f02f74f4bb66.jpg -> Annotation:C:/Users/Batlagh/Projects/object-detection/Tensorflow/workspace/images/train\\hello.459d3dea-1a79-11ef-b6b2-f02f74f4bb66.xml\n",
      "Image:C:\\Users\\Batlagh\\Projects\\object-detection\\Tensorflow\\workspace\\images\\train\\hello.3977cdef-1a79-11ef-b970-f02f74f4bb66.jpg -> Annotation:C:/Users/Batlagh/Projects/object-detection/Tensorflow/workspace/images/train\\hello.3977cdef-1a79-11ef-b970-f02f74f4bb66.xml\n",
      "Image:C:\\Users\\Batlagh\\Projects\\object-detection\\Tensorflow\\workspace\\images\\train\\hello.44632c26-1a79-11ef-837e-f02f74f4bb66.jpg -> Annotation:C:/Users/Batlagh/Projects/object-detection/Tensorflow/workspace/images/train\\hello.44632c26-1a79-11ef-837e-f02f74f4bb66.xml\n",
      "Image:C:\\Users\\Batlagh\\Projects\\object-detection\\Tensorflow\\workspace\\images\\train\\iloveyou.8ec94e45-1a79-11ef-8cc6-f02f74f4bb66.jpg -> Annotation:C:/Users/Batlagh/Projects/object-detection/Tensorflow/workspace/images/train\\iloveyou.8ec94e45-1a79-11ef-8cc6-f02f74f4bb66.xml\n",
      "Image:C:\\Users\\Batlagh\\Projects\\object-detection\\Tensorflow\\workspace\\images\\train\\iloveyou.8ffd8799-1a79-11ef-b693-f02f74f4bb66.jpg -> Annotation:C:/Users/Batlagh/Projects/object-detection/Tensorflow/workspace/images/train\\iloveyou.8ffd8799-1a79-11ef-b693-f02f74f4bb66.xml\n",
      "Image:C:\\Users\\Batlagh\\Projects\\object-detection\\Tensorflow\\workspace\\images\\train\\iloveyou.9ae1b2c6-1a79-11ef-af34-f02f74f4bb66.jpg -> Annotation:C:/Users/Batlagh/Projects/object-detection/Tensorflow/workspace/images/train\\iloveyou.9ae1b2c6-1a79-11ef-af34-f02f74f4bb66.xml\n",
      "Image:C:\\Users\\Batlagh\\Projects\\object-detection\\Tensorflow\\workspace\\images\\train\\iloveyou.9c173086-1a79-11ef-93f5-f02f74f4bb66.jpg -> Annotation:C:/Users/Batlagh/Projects/object-detection/Tensorflow/workspace/images/train\\iloveyou.9c173086-1a79-11ef-93f5-f02f74f4bb66.xml\n",
      "Cancel creation.\n",
      "Image:C:\\Users\\Batlagh\\Projects\\object-detection\\Tensorflow\\workspace\\images\\train\\iloveyou.94d38026-1a79-11ef-86df-f02f74f4bb66.jpg -> Annotation:C:/Users/Batlagh/Projects/object-detection/Tensorflow/workspace/images/train\\iloveyou.94d38026-1a79-11ef-86df-f02f74f4bb66.xml\n",
      "Image:C:\\Users\\Batlagh\\Projects\\object-detection\\Tensorflow\\workspace\\images\\train\\iloveyou.99a940e0-1a79-11ef-92fe-f02f74f4bb66.jpg -> Annotation:C:/Users/Batlagh/Projects/object-detection/Tensorflow/workspace/images/train\\iloveyou.99a940e0-1a79-11ef-92fe-f02f74f4bb66.xml\n",
      "Image:C:\\Users\\Batlagh\\Projects\\object-detection\\Tensorflow\\workspace\\images\\train\\iloveyou.939c9e66-1a79-11ef-a159-f02f74f4bb66.jpg -> Annotation:C:/Users/Batlagh/Projects/object-detection/Tensorflow/workspace/images/train\\iloveyou.939c9e66-1a79-11ef-a159-f02f74f4bb66.xml\n",
      "Image:C:\\Users\\Batlagh\\Projects\\object-detection\\Tensorflow\\workspace\\images\\train\\iloveyou.973d5bf9-1a79-11ef-af42-f02f74f4bb66.jpg -> Annotation:C:/Users/Batlagh/Projects/object-detection/Tensorflow/workspace/images/train\\iloveyou.973d5bf9-1a79-11ef-af42-f02f74f4bb66.xml\n",
      "Image:C:\\Users\\Batlagh\\Projects\\object-detection\\Tensorflow\\workspace\\images\\train\\iloveyou.9267e8db-1a79-11ef-a0b1-f02f74f4bb66.jpg -> Annotation:C:/Users/Batlagh/Projects/object-detection/Tensorflow/workspace/images/train\\iloveyou.9267e8db-1a79-11ef-a0b1-f02f74f4bb66.xml\n",
      "Image:C:\\Users\\Batlagh\\Projects\\object-detection\\Tensorflow\\workspace\\images\\train\\iloveyou.9872a989-1a79-11ef-a6be-f02f74f4bb66.jpg -> Annotation:C:/Users/Batlagh/Projects/object-detection/Tensorflow/workspace/images/train\\iloveyou.9872a989-1a79-11ef-a6be-f02f74f4bb66.xml\n",
      "Image:C:\\Users\\Batlagh\\Projects\\object-detection\\Tensorflow\\workspace\\images\\train\\iloveyou.9608115d-1a79-11ef-8cc2-f02f74f4bb66.jpg -> Annotation:C:/Users/Batlagh/Projects/object-detection/Tensorflow/workspace/images/train\\iloveyou.9608115d-1a79-11ef-8cc2-f02f74f4bb66.xml\n",
      "Cancel creation.\n",
      "Image:C:\\Users\\Batlagh\\Projects\\object-detection\\Tensorflow\\workspace\\images\\train\\iloveyou.91328885-1a79-11ef-bba4-f02f74f4bb66.jpg -> Annotation:C:/Users/Batlagh/Projects/object-detection/Tensorflow/workspace/images/train\\iloveyou.91328885-1a79-11ef-bba4-f02f74f4bb66.xml\n",
      "Image:C:\\Users\\Batlagh\\Projects\\object-detection\\Tensorflow\\workspace\\images\\train\\mamamia.a7c11eea-1a79-11ef-870c-f02f74f4bb66.jpg -> Annotation:C:/Users/Batlagh/Projects/object-detection/Tensorflow/workspace/images/train\\mamamia.a7c11eea-1a79-11ef-870c-f02f74f4bb66.xml\n",
      "Cancel creation.\n",
      "Image:C:\\Users\\Batlagh\\Projects\\object-detection\\Tensorflow\\workspace\\images\\train\\mamamia.a8f715c8-1a79-11ef-9b69-f02f74f4bb66.jpg -> Annotation:C:/Users/Batlagh/Projects/object-detection/Tensorflow/workspace/images/train\\mamamia.a8f715c8-1a79-11ef-9b69-f02f74f4bb66.xml\n",
      "Image:C:\\Users\\Batlagh\\Projects\\object-detection\\Tensorflow\\workspace\\images\\train\\mamamia.a68d99bf-1a79-11ef-a5ad-f02f74f4bb66.jpg -> Annotation:C:/Users/Batlagh/Projects/object-detection/Tensorflow/workspace/images/train\\mamamia.a68d99bf-1a79-11ef-a5ad-f02f74f4bb66.xml\n",
      "Image:C:\\Users\\Batlagh\\Projects\\object-detection\\Tensorflow\\workspace\\images\\train\\mamamia.a554d8bd-1a79-11ef-aa97-f02f74f4bb66.jpg -> Annotation:C:/Users/Batlagh/Projects/object-detection/Tensorflow/workspace/images/train\\mamamia.a554d8bd-1a79-11ef-aa97-f02f74f4bb66.xml\n",
      "Image:C:\\Users\\Batlagh\\Projects\\object-detection\\Tensorflow\\workspace\\images\\train\\mamamia.aa2e057f-1a79-11ef-96fe-f02f74f4bb66.jpg -> Annotation:C:/Users/Batlagh/Projects/object-detection/Tensorflow/workspace/images/train\\mamamia.aa2e057f-1a79-11ef-96fe-f02f74f4bb66.xml\n",
      "Image:C:\\Users\\Batlagh\\Projects\\object-detection\\Tensorflow\\workspace\\images\\train\\mamamia.ab63ec42-1a79-11ef-8097-f02f74f4bb66.jpg -> Annotation:C:/Users/Batlagh/Projects/object-detection/Tensorflow/workspace/images/train\\mamamia.ab63ec42-1a79-11ef-8097-f02f74f4bb66.xml\n",
      "Cancel creation.\n",
      "Image:C:\\Users\\Batlagh\\Projects\\object-detection\\Tensorflow\\workspace\\images\\train\\mamamia.ac9c2c8a-1a79-11ef-9b16-f02f74f4bb66.jpg -> Annotation:C:/Users/Batlagh/Projects/object-detection/Tensorflow/workspace/images/train\\mamamia.ac9c2c8a-1a79-11ef-9b16-f02f74f4bb66.xml\n",
      "Image:C:\\Users\\Batlagh\\Projects\\object-detection\\Tensorflow\\workspace\\images\\train\\mamamia.add209f7-1a79-11ef-a9fd-f02f74f4bb66.jpg -> Annotation:C:/Users/Batlagh/Projects/object-detection/Tensorflow/workspace/images/train\\mamamia.add209f7-1a79-11ef-a9fd-f02f74f4bb66.xml\n",
      "Image:C:\\Users\\Batlagh\\Projects\\object-detection\\Tensorflow\\workspace\\images\\train\\mamamia.af08e732-1a79-11ef-a4c5-f02f74f4bb66.jpg -> Annotation:C:/Users/Batlagh/Projects/object-detection/Tensorflow/workspace/images/train\\mamamia.af08e732-1a79-11ef-a4c5-f02f74f4bb66.xml\n",
      "Image:C:\\Users\\Batlagh\\Projects\\object-detection\\Tensorflow\\workspace\\images\\train\\mamamia.b2af5cd2-1a79-11ef-bf1d-f02f74f4bb66.jpg -> Annotation:C:/Users/Batlagh/Projects/object-detection/Tensorflow/workspace/images/train\\mamamia.b2af5cd2-1a79-11ef-bf1d-f02f74f4bb66.xml\n",
      "Image:C:\\Users\\Batlagh\\Projects\\object-detection\\Tensorflow\\workspace\\images\\train\\mamamia.b04065a8-1a79-11ef-9cd4-f02f74f4bb66.jpg -> Annotation:C:/Users/Batlagh/Projects/object-detection/Tensorflow/workspace/images/train\\mamamia.b04065a8-1a79-11ef-9cd4-f02f74f4bb66.xml\n",
      "Image:C:\\Users\\Batlagh\\Projects\\object-detection\\Tensorflow\\workspace\\images\\train\\mamamia.b17705e3-1a79-11ef-8ba9-f02f74f4bb66.jpg -> Annotation:C:/Users/Batlagh/Projects/object-detection/Tensorflow/workspace/images/train\\mamamia.b17705e3-1a79-11ef-8ba9-f02f74f4bb66.xml\n",
      "Image:C:\\Users\\Batlagh\\Projects\\object-detection\\Tensorflow\\workspace\\images\\train\\no.6a364f33-1a79-11ef-86e0-f02f74f4bb66.jpg -> Annotation:C:/Users/Batlagh/Projects/object-detection/Tensorflow/workspace/images/train\\no.6a364f33-1a79-11ef-86e0-f02f74f4bb66.xml\n",
      "Image:C:\\Users\\Batlagh\\Projects\\object-detection\\Tensorflow\\workspace\\images\\train\\no.6b6d5dea-1a79-11ef-ac89-f02f74f4bb66.jpg -> Annotation:C:/Users/Batlagh/Projects/object-detection/Tensorflow/workspace/images/train\\no.6b6d5dea-1a79-11ef-ac89-f02f74f4bb66.xml\n",
      "Image:C:\\Users\\Batlagh\\Projects\\object-detection\\Tensorflow\\workspace\\images\\train\\no.6ca5417a-1a79-11ef-8a87-f02f74f4bb66.jpg -> Annotation:C:/Users/Batlagh/Projects/object-detection/Tensorflow/workspace/images/train\\no.6ca5417a-1a79-11ef-8a87-f02f74f4bb66.xml\n",
      "Image:C:\\Users\\Batlagh\\Projects\\object-detection\\Tensorflow\\workspace\\images\\train\\no.6ddc3b2a-1a79-11ef-903c-f02f74f4bb66.jpg -> Annotation:C:/Users/Batlagh/Projects/object-detection/Tensorflow/workspace/images/train\\no.6ddc3b2a-1a79-11ef-903c-f02f74f4bb66.xml\n",
      "Image:C:\\Users\\Batlagh\\Projects\\object-detection\\Tensorflow\\workspace\\images\\train\\no.6f0fc18b-1a79-11ef-9be8-f02f74f4bb66.jpg -> Annotation:C:/Users/Batlagh/Projects/object-detection/Tensorflow/workspace/images/train\\no.6f0fc18b-1a79-11ef-9be8-f02f74f4bb66.xml\n",
      "Image:C:\\Users\\Batlagh\\Projects\\object-detection\\Tensorflow\\workspace\\images\\train\\no.67c8b03c-1a79-11ef-a73b-f02f74f4bb66.jpg -> Annotation:C:/Users/Batlagh/Projects/object-detection/Tensorflow/workspace/images/train\\no.67c8b03c-1a79-11ef-a73b-f02f74f4bb66.xml\n",
      "Image:C:\\Users\\Batlagh\\Projects\\object-detection\\Tensorflow\\workspace\\images\\train\\no.655e7483-1a79-11ef-969c-f02f74f4bb66.jpg -> Annotation:C:/Users/Batlagh/Projects/object-detection/Tensorflow/workspace/images/train\\no.655e7483-1a79-11ef-969c-f02f74f4bb66.xml\n",
      "Image:C:\\Users\\Batlagh\\Projects\\object-detection\\Tensorflow\\workspace\\images\\train\\no.7043e709-1a79-11ef-9087-f02f74f4bb66.jpg -> Annotation:C:/Users/Batlagh/Projects/object-detection/Tensorflow/workspace/images/train\\no.7043e709-1a79-11ef-9087-f02f74f4bb66.xml\n",
      "Cancel creation.\n",
      "Image:C:\\Users\\Batlagh\\Projects\\object-detection\\Tensorflow\\workspace\\images\\train\\no.7179a8b9-1a79-11ef-bec6-f02f74f4bb66.jpg -> Annotation:C:/Users/Batlagh/Projects/object-detection/Tensorflow/workspace/images/train\\no.7179a8b9-1a79-11ef-bec6-f02f74f4bb66.xml\n",
      "Image:C:\\Users\\Batlagh\\Projects\\object-detection\\Tensorflow\\workspace\\images\\train\\no.669518e6-1a79-11ef-a271-f02f74f4bb66.jpg -> Annotation:C:/Users/Batlagh/Projects/object-detection/Tensorflow/workspace/images/train\\no.669518e6-1a79-11ef-a271-f02f74f4bb66.xml\n",
      "Image:C:\\Users\\Batlagh\\Projects\\object-detection\\Tensorflow\\workspace\\images\\train\\no.48032473-1a93-11ef-b6a7-f02f74f4bb66.jpg -> Annotation:C:/Users/Batlagh/Projects/object-detection/Tensorflow/workspace/images/train\\no.48032473-1a93-11ef-b6a7-f02f74f4bb66.xml\n",
      "Image:C:\\Users\\Batlagh\\Projects\\object-detection\\Tensorflow\\workspace\\images\\train\\no.69007095-1a79-11ef-80f9-f02f74f4bb66.jpg -> Annotation:C:/Users/Batlagh/Projects/object-detection/Tensorflow/workspace/images/train\\no.69007095-1a79-11ef-80f9-f02f74f4bb66.xml\n",
      "Image:C:\\Users\\Batlagh\\Projects\\object-detection\\Tensorflow\\workspace\\images\\train\\thanks.7aa2183d-1a79-11ef-ab01-f02f74f4bb66.jpg -> Annotation:C:/Users/Batlagh/Projects/object-detection/Tensorflow/workspace/images/train\\thanks.7aa2183d-1a79-11ef-ab01-f02f74f4bb66.xml\n",
      "Image:C:\\Users\\Batlagh\\Projects\\object-detection\\Tensorflow\\workspace\\images\\train\\thanks.7bd668f4-1a79-11ef-ac9e-f02f74f4bb66.jpg -> Annotation:C:/Users/Batlagh/Projects/object-detection/Tensorflow/workspace/images/train\\thanks.7bd668f4-1a79-11ef-ac9e-f02f74f4bb66.xml\n",
      "Image:C:\\Users\\Batlagh\\Projects\\object-detection\\Tensorflow\\workspace\\images\\train\\thanks.7d0b2da4-1a79-11ef-a227-f02f74f4bb66.jpg -> Annotation:C:/Users/Batlagh/Projects/object-detection/Tensorflow/workspace/images/train\\thanks.7d0b2da4-1a79-11ef-a227-f02f74f4bb66.xml\n",
      "Image:C:\\Users\\Batlagh\\Projects\\object-detection\\Tensorflow\\workspace\\images\\train\\thanks.7e409d71-1a79-11ef-82bb-f02f74f4bb66.jpg -> Annotation:C:/Users/Batlagh/Projects/object-detection/Tensorflow/workspace/images/train\\thanks.7e409d71-1a79-11ef-82bb-f02f74f4bb66.xml\n",
      "Image:C:\\Users\\Batlagh\\Projects\\object-detection\\Tensorflow\\workspace\\images\\train\\thanks.7f789b8f-1a79-11ef-bc49-f02f74f4bb66.jpg -> Annotation:C:/Users/Batlagh/Projects/object-detection/Tensorflow/workspace/images/train\\thanks.7f789b8f-1a79-11ef-bc49-f02f74f4bb66.xml\n",
      "Image:C:\\Users\\Batlagh\\Projects\\object-detection\\Tensorflow\\workspace\\images\\train\\thanks.80aea162-1a79-11ef-aaaa-f02f74f4bb66.jpg -> Annotation:C:/Users/Batlagh/Projects/object-detection/Tensorflow/workspace/images/train\\thanks.80aea162-1a79-11ef-aaaa-f02f74f4bb66.xml\n",
      "Image:C:\\Users\\Batlagh\\Projects\\object-detection\\Tensorflow\\workspace\\images\\train\\thanks.81e4b219-1a79-11ef-900e-f02f74f4bb66.jpg -> Annotation:C:/Users/Batlagh/Projects/object-detection/Tensorflow/workspace/images/train\\thanks.81e4b219-1a79-11ef-900e-f02f74f4bb66.xml\n",
      "Image:C:\\Users\\Batlagh\\Projects\\object-detection\\Tensorflow\\workspace\\images\\train\\thanks.86c034ca-1a79-11ef-b4de-f02f74f4bb66.jpg -> Annotation:C:/Users/Batlagh/Projects/object-detection/Tensorflow/workspace/images/train\\thanks.86c034ca-1a79-11ef-b4de-f02f74f4bb66.xml\n",
      "Image:C:\\Users\\Batlagh\\Projects\\object-detection\\Tensorflow\\workspace\\images\\train\\thanks.796c0d31-1a79-11ef-9e48-f02f74f4bb66.jpg -> Annotation:C:/Users/Batlagh/Projects/object-detection/Tensorflow/workspace/images/train\\thanks.796c0d31-1a79-11ef-9e48-f02f74f4bb66.xml\n",
      "Image:C:\\Users\\Batlagh\\Projects\\object-detection\\Tensorflow\\workspace\\images\\train\\thanks.85884b1b-1a79-11ef-9c40-f02f74f4bb66.jpg -> Annotation:C:/Users/Batlagh/Projects/object-detection/Tensorflow/workspace/images/train\\thanks.85884b1b-1a79-11ef-9c40-f02f74f4bb66.xml\n",
      "Image:C:\\Users\\Batlagh\\Projects\\object-detection\\Tensorflow\\workspace\\images\\train\\thanks.831974cf-1a79-11ef-90bf-f02f74f4bb66.jpg -> Annotation:C:/Users/Batlagh/Projects/object-detection/Tensorflow/workspace/images/train\\thanks.831974cf-1a79-11ef-90bf-f02f74f4bb66.xml\n",
      "Image:C:\\Users\\Batlagh\\Projects\\object-detection\\Tensorflow\\workspace\\images\\train\\thanks.8451544c-1a79-11ef-a422-f02f74f4bb66.jpg -> Annotation:C:/Users/Batlagh/Projects/object-detection/Tensorflow/workspace/images/train\\thanks.8451544c-1a79-11ef-a422-f02f74f4bb66.xml\n",
      "Image:C:\\Users\\Batlagh\\Projects\\object-detection\\Tensorflow\\workspace\\images\\train\\yes.4ece9ceb-1a79-11ef-ab70-f02f74f4bb66.jpg -> Annotation:C:/Users/Batlagh/Projects/object-detection/Tensorflow/workspace/images/train\\yes.4ece9ceb-1a79-11ef-ab70-f02f74f4bb66.xml\n",
      "Image:C:\\Users\\Batlagh\\Projects\\object-detection\\Tensorflow\\workspace\\images\\train\\yes.5ae960af-1a79-11ef-aab9-f02f74f4bb66.jpg -> Annotation:C:/Users/Batlagh/Projects/object-detection/Tensorflow/workspace/images/train\\yes.5ae960af-1a79-11ef-aab9-f02f74f4bb66.xml\n",
      "Image:C:\\Users\\Batlagh\\Projects\\object-detection\\Tensorflow\\workspace\\images\\train\\yes.5c1da9dc-1a79-11ef-a554-f02f74f4bb66.jpg -> Annotation:C:/Users/Batlagh/Projects/object-detection/Tensorflow/workspace/images/train\\yes.5c1da9dc-1a79-11ef-a554-f02f74f4bb66.xml\n",
      "Image:C:\\Users\\Batlagh\\Projects\\object-detection\\Tensorflow\\workspace\\images\\train\\yes.5d52db0a-1a79-11ef-a1cd-f02f74f4bb66.jpg -> Annotation:C:/Users/Batlagh/Projects/object-detection/Tensorflow/workspace/images/train\\yes.5d52db0a-1a79-11ef-a1cd-f02f74f4bb66.xml\n",
      "Image:C:\\Users\\Batlagh\\Projects\\object-detection\\Tensorflow\\workspace\\images\\train\\yes.53a45625-1a79-11ef-bad5-f02f74f4bb66.jpg -> Annotation:C:/Users/Batlagh/Projects/object-detection/Tensorflow/workspace/images/train\\yes.53a45625-1a79-11ef-bad5-f02f74f4bb66.xml\n",
      "Image:C:\\Users\\Batlagh\\Projects\\object-detection\\Tensorflow\\workspace\\images\\train\\yes.54da01c8-1a79-11ef-bfdb-f02f74f4bb66.jpg -> Annotation:C:/Users/Batlagh/Projects/object-detection/Tensorflow/workspace/images/train\\yes.54da01c8-1a79-11ef-bfdb-f02f74f4bb66.xml\n",
      "Image:C:\\Users\\Batlagh\\Projects\\object-detection\\Tensorflow\\workspace\\images\\train\\yes.59b50fee-1a79-11ef-83d0-f02f74f4bb66.jpg -> Annotation:C:/Users/Batlagh/Projects/object-detection/Tensorflow/workspace/images/train\\yes.59b50fee-1a79-11ef-83d0-f02f74f4bb66.xml\n",
      "Image:C:\\Users\\Batlagh\\Projects\\object-detection\\Tensorflow\\workspace\\images\\train\\yes.513a912b-1a79-11ef-9f84-f02f74f4bb66.jpg -> Annotation:C:/Users/Batlagh/Projects/object-detection/Tensorflow/workspace/images/train\\yes.513a912b-1a79-11ef-9f84-f02f74f4bb66.xml\n",
      "Image:C:\\Users\\Batlagh\\Projects\\object-detection\\Tensorflow\\workspace\\images\\train\\yes.526fe490-1a79-11ef-a7c4-f02f74f4bb66.jpg -> Annotation:C:/Users/Batlagh/Projects/object-detection/Tensorflow/workspace/images/train\\yes.526fe490-1a79-11ef-a7c4-f02f74f4bb66.xml\n",
      "Image:C:\\Users\\Batlagh\\Projects\\object-detection\\Tensorflow\\workspace\\images\\train\\yes.5004e410-1a79-11ef-9019-f02f74f4bb66.jpg -> Annotation:C:/Users/Batlagh/Projects/object-detection/Tensorflow/workspace/images/train\\yes.5004e410-1a79-11ef-9019-f02f74f4bb66.xml\n",
      "Image:C:\\Users\\Batlagh\\Projects\\object-detection\\Tensorflow\\workspace\\images\\train\\yes.5611ae4f-1a79-11ef-91bc-f02f74f4bb66.jpg -> Annotation:C:/Users/Batlagh/Projects/object-detection/Tensorflow/workspace/images/train\\yes.5611ae4f-1a79-11ef-91bc-f02f74f4bb66.xml\n",
      "Image:C:\\Users\\Batlagh\\Projects\\object-detection\\Tensorflow\\workspace\\images\\train\\yes.574899be-1a79-11ef-8cf9-f02f74f4bb66.jpg -> Annotation:C:/Users/Batlagh/Projects/object-detection/Tensorflow/workspace/images/train\\yes.574899be-1a79-11ef-8cf9-f02f74f4bb66.xml\n",
      "Image:C:\\Users\\Batlagh\\Projects\\object-detection\\Tensorflow\\workspace\\images\\test\\hello.4a73ecff-1a79-11ef-9651-f02f74f4bb66.jpg -> Annotation:C:/Users/Batlagh/Projects/object-detection/Tensorflow/workspace/images/test\\hello.4a73ecff-1a79-11ef-9651-f02f74f4bb66.xml\n",
      "Image:C:\\Users\\Batlagh\\Projects\\object-detection\\Tensorflow\\workspace\\images\\test\\hello.493dcf36-1a79-11ef-93bf-f02f74f4bb66.jpg -> Annotation:C:/Users/Batlagh/Projects/object-detection/Tensorflow/workspace/images/test\\hello.493dcf36-1a79-11ef-93bf-f02f74f4bb66.xml\n",
      "Image:C:\\Users\\Batlagh\\Projects\\object-detection\\Tensorflow\\workspace\\images\\test\\hello.4808e896-1a79-11ef-9140-f02f74f4bb66.jpg -> Annotation:C:/Users/Batlagh/Projects/object-detection/Tensorflow/workspace/images/test\\hello.4808e896-1a79-11ef-9140-f02f74f4bb66.xml\n",
      "Image:C:\\Users\\Batlagh\\Projects\\object-detection\\Tensorflow\\workspace\\images\\test\\iloveyou.9d4f0c12-1a79-11ef-b06e-f02f74f4bb66.jpg -> Annotation:C:/Users/Batlagh/Projects/object-detection/Tensorflow/workspace/images/test\\iloveyou.9d4f0c12-1a79-11ef-b06e-f02f74f4bb66.xml\n",
      "Image:C:\\Users\\Batlagh\\Projects\\object-detection\\Tensorflow\\workspace\\images\\test\\iloveyou.9e842507-1a79-11ef-860f-f02f74f4bb66.jpg -> Annotation:C:/Users/Batlagh/Projects/object-detection/Tensorflow/workspace/images/test\\iloveyou.9e842507-1a79-11ef-860f-f02f74f4bb66.xml\n",
      "Image:C:\\Users\\Batlagh\\Projects\\object-detection\\Tensorflow\\workspace\\images\\test\\iloveyou.9fba0d0d-1a79-11ef-b43b-f02f74f4bb66.jpg -> Annotation:C:/Users/Batlagh/Projects/object-detection/Tensorflow/workspace/images/test\\iloveyou.9fba0d0d-1a79-11ef-b43b-f02f74f4bb66.xml\n",
      "Image:C:\\Users\\Batlagh\\Projects\\object-detection\\Tensorflow\\workspace\\images\\test\\mamamia.b3e45e26-1a79-11ef-9004-f02f74f4bb66.jpg -> Annotation:C:/Users/Batlagh/Projects/object-detection/Tensorflow/workspace/images/test\\mamamia.b3e45e26-1a79-11ef-9004-f02f74f4bb66.xml\n",
      "Image:C:\\Users\\Batlagh\\Projects\\object-detection\\Tensorflow\\workspace\\images\\test\\mamamia.b518e005-1a79-11ef-9b55-f02f74f4bb66.jpg -> Annotation:C:/Users/Batlagh/Projects/object-detection/Tensorflow/workspace/images/test\\mamamia.b518e005-1a79-11ef-9b55-f02f74f4bb66.xml\n",
      "Image:C:\\Users\\Batlagh\\Projects\\object-detection\\Tensorflow\\workspace\\images\\test\\mamamia.c0469b5d-1a79-11ef-a068-f02f74f4bb66.jpg -> Annotation:C:/Users/Batlagh/Projects/object-detection/Tensorflow/workspace/images/test\\mamamia.c0469b5d-1a79-11ef-a068-f02f74f4bb66.xml\n",
      "Image:C:\\Users\\Batlagh\\Projects\\object-detection\\Tensorflow\\workspace\\images\\test\\no.72adcf1e-1a79-11ef-bd42-f02f74f4bb66.jpg -> Annotation:C:/Users/Batlagh/Projects/object-detection/Tensorflow/workspace/images/test\\no.72adcf1e-1a79-11ef-bd42-f02f74f4bb66.xml\n",
      "Image:C:\\Users\\Batlagh\\Projects\\object-detection\\Tensorflow\\workspace\\images\\test\\no.73e3ffdd-1a79-11ef-b5e2-f02f74f4bb66.jpg -> Annotation:C:/Users/Batlagh/Projects/object-detection/Tensorflow/workspace/images/test\\no.73e3ffdd-1a79-11ef-b5e2-f02f74f4bb66.xml\n",
      "Image:C:\\Users\\Batlagh\\Projects\\object-detection\\Tensorflow\\workspace\\images\\test\\no.75182c3f-1a79-11ef-9faa-f02f74f4bb66.jpg -> Annotation:C:/Users/Batlagh/Projects/object-detection/Tensorflow/workspace/images/test\\no.75182c3f-1a79-11ef-9faa-f02f74f4bb66.xml\n",
      "Image:C:\\Users\\Batlagh\\Projects\\object-detection\\Tensorflow\\workspace\\images\\test\\thanks.8a5a9039-1a79-11ef-a692-f02f74f4bb66.jpg -> Annotation:C:/Users/Batlagh/Projects/object-detection/Tensorflow/workspace/images/test\\thanks.8a5a9039-1a79-11ef-a692-f02f74f4bb66.xml\n",
      "Image:C:\\Users\\Batlagh\\Projects\\object-detection\\Tensorflow\\workspace\\images\\test\\thanks.87f39546-1a79-11ef-a3ef-f02f74f4bb66.jpg -> Annotation:C:/Users/Batlagh/Projects/object-detection/Tensorflow/workspace/images/test\\thanks.87f39546-1a79-11ef-a3ef-f02f74f4bb66.xml\n",
      "Image:C:\\Users\\Batlagh\\Projects\\object-detection\\Tensorflow\\workspace\\images\\test\\thanks.89272b45-1a79-11ef-b2d7-f02f74f4bb66.jpg -> Annotation:C:/Users/Batlagh/Projects/object-detection/Tensorflow/workspace/images/test\\thanks.89272b45-1a79-11ef-b2d7-f02f74f4bb66.xml\n",
      "Image:C:\\Users\\Batlagh\\Projects\\object-detection\\Tensorflow\\workspace\\images\\test\\yes.5e8bb1ac-1a79-11ef-9be5-f02f74f4bb66.jpg -> Annotation:C:/Users/Batlagh/Projects/object-detection/Tensorflow/workspace/images/test\\yes.5e8bb1ac-1a79-11ef-9be5-f02f74f4bb66.xml\n",
      "Image:C:\\Users\\Batlagh\\Projects\\object-detection\\Tensorflow\\workspace\\images\\test\\yes.5fc0a656-1a79-11ef-8c75-f02f74f4bb66.jpg -> Annotation:C:/Users/Batlagh/Projects/object-detection/Tensorflow/workspace/images/test\\yes.5fc0a656-1a79-11ef-8c75-f02f74f4bb66.xml\n",
      "Image:C:\\Users\\Batlagh\\Projects\\object-detection\\Tensorflow\\workspace\\images\\test\\yes.6428e805-1a79-11ef-a942-f02f74f4bb66.jpg -> Annotation:C:/Users/Batlagh/Projects/object-detection/Tensorflow/workspace/images/test\\yes.6428e805-1a79-11ef-a942-f02f74f4bb66.xml\n"
     ]
    }
   ],
   "source": [
    "!labelimg"
   ]
  },
  {
   "cell_type": "markdown",
   "id": "8ec5b192-f178-474b-ae4c-0c90e92f3dd2",
   "metadata": {},
   "source": [
    "# Split Images and Labels to Train and Test"
   ]
  },
  {
   "cell_type": "code",
   "execution_count": 6,
   "id": "1b919e49-ead3-491d-b6fc-f007f2b2980d",
   "metadata": {},
   "outputs": [],
   "source": [
    "WORKSPACE_PATH = 'Tensorflow/workspace'\n",
    "SCRIPTS_PATH = 'Tensorflow/scripts'\n",
    "APIMODEL_PATH = 'Tensorflow/models'\n",
    "ANNOTATION_PATH = WORKSPACE_PATH+'/annotations'\n",
    "IMAGE_PATH = WORKSPACE_PATH+'/images'\n",
    "MODEL_PATH = WORKSPACE_PATH+'/models'\n",
    "PRETRAINED_MODEL_PATH = WORKSPACE_PATH+'/pre-trained-models'\n",
    "CONFIG_PATH = MODEL_PATH+'/my_ssd_mobnet/pipeline.config'\n",
    "CHECKPOINT_PATH = MODEL_PATH+'/my_ssd_mobnet/'\n",
    "CUSTOM_MODEL_NAME = \"my_ssd_mobnet\""
   ]
  },
  {
   "cell_type": "markdown",
   "id": "49c18570-214d-49ca-a123-00090468ca53",
   "metadata": {},
   "source": [
    "# Create Label Map"
   ]
  },
  {
   "cell_type": "code",
   "execution_count": 7,
   "id": "68cb368c-d71c-4b99-910a-fb8e91dab890",
   "metadata": {},
   "outputs": [],
   "source": [
    "label_map = [{\"name\": \"hello\", \"id\": 1},\n",
    "             {\"name\": \"yes\", \"id\": 2},\n",
    "             {\"name\": \"no\", \"id\": 3},\n",
    "             {\"name\": \"thanks\", \"id\": 4},\n",
    "             {\"name\": \"i love you\", \"id\": 5},\n",
    "             {\"name\": \"mamamia\", \"id\": 6}]\n",
    "\n",
    "with open(ANNOTATION_PATH + '\\label_map.pbtxt', 'w') as f:\n",
    "    for label in label_map:\n",
    "        f.write('item { \\n')\n",
    "        f.write('\\tname:\\'{}\\'\\n'.format(label['name']))\n",
    "        f.write('\\tid:{}\\n'.format(label['id']))\n",
    "        f.write('}\\n')"
   ]
  },
  {
   "cell_type": "markdown",
   "id": "b38b658a-1e2d-4e19-b928-7728d45d9112",
   "metadata": {},
   "source": [
    "# Create TF Records"
   ]
  },
  {
   "cell_type": "code",
   "execution_count": 9,
   "id": "953ff1f4-db32-4d3f-a9c9-cc72359e08a1",
   "metadata": {},
   "outputs": [
    {
     "name": "stdout",
     "output_type": "stream",
     "text": [
      "Successfully created the TFRecord file: Tensorflow/workspace/annotations/train.record\n",
      "Successfully created the TFRecord file: Tensorflow/workspace/annotations/test.record\n"
     ]
    }
   ],
   "source": [
    "!python {SCRIPTS_PATH + '/generate_tfrecord.py'} -x {IMAGE_PATH + '/train'} -l {ANNOTATION_PATH + '/label_map.pbtxt'} -o {ANNOTATION_PATH + '/train.record'}\n",
    "!python {SCRIPTS_PATH + '/generate_tfrecord.py'} -x{IMAGE_PATH + '/test'} -l {ANNOTATION_PATH + '/label_map.pbtxt'} -o {ANNOTATION_PATH + '/test.record'}"
   ]
  },
  {
   "cell_type": "markdown",
   "id": "58d286a1-6902-409d-97b8-14936834ef36",
   "metadata": {},
   "source": [
    "# Update Config For Transfer Learning"
   ]
  },
  {
   "cell_type": "code",
   "execution_count": 7,
   "id": "666f991a-60b9-480b-a108-e564116629f3",
   "metadata": {},
   "outputs": [],
   "source": [
    "import tensorflow as tf\n",
    "from object_detection.utils import config_util\n",
    "from object_detection.protos import pipeline_pb2\n",
    "from google.protobuf import text_format"
   ]
  },
  {
   "cell_type": "code",
   "execution_count": 8,
   "id": "1a719b27-f16b-4c90-964b-77d54666907b",
   "metadata": {},
   "outputs": [],
   "source": [
    "CONFIG_PATH = MODEL_PATH+'/'+CUSTOM_MODEL_NAME+'/pipeline.config'"
   ]
  },
  {
   "cell_type": "code",
   "execution_count": 12,
   "id": "6c4ee7a6-a7d8-47b9-b2e2-6f8cb8fa2f64",
   "metadata": {
    "scrolled": true
   },
   "outputs": [
    {
     "data": {
      "text/plain": [
       "{'model': ssd {\n",
       "   num_classes: 6\n",
       "   image_resizer {\n",
       "     fixed_shape_resizer {\n",
       "       height: 320\n",
       "       width: 320\n",
       "     }\n",
       "   }\n",
       "   feature_extractor {\n",
       "     type: \"ssd_mobilenet_v2_fpn_keras\"\n",
       "     depth_multiplier: 1.0\n",
       "     min_depth: 16\n",
       "     conv_hyperparams {\n",
       "       regularizer {\n",
       "         l2_regularizer {\n",
       "           weight: 3.9999998989515007e-05\n",
       "         }\n",
       "       }\n",
       "       initializer {\n",
       "         random_normal_initializer {\n",
       "           mean: 0.0\n",
       "           stddev: 0.009999999776482582\n",
       "         }\n",
       "       }\n",
       "       activation: RELU_6\n",
       "       batch_norm {\n",
       "         decay: 0.996999979019165\n",
       "         scale: true\n",
       "         epsilon: 0.0010000000474974513\n",
       "       }\n",
       "     }\n",
       "     use_depthwise: true\n",
       "     override_base_feature_extractor_hyperparams: true\n",
       "     fpn {\n",
       "       min_level: 3\n",
       "       max_level: 7\n",
       "       additional_layer_depth: 128\n",
       "     }\n",
       "   }\n",
       "   box_coder {\n",
       "     faster_rcnn_box_coder {\n",
       "       y_scale: 10.0\n",
       "       x_scale: 10.0\n",
       "       height_scale: 5.0\n",
       "       width_scale: 5.0\n",
       "     }\n",
       "   }\n",
       "   matcher {\n",
       "     argmax_matcher {\n",
       "       matched_threshold: 0.5\n",
       "       unmatched_threshold: 0.5\n",
       "       ignore_thresholds: false\n",
       "       negatives_lower_than_unmatched: true\n",
       "       force_match_for_each_row: true\n",
       "       use_matmul_gather: true\n",
       "     }\n",
       "   }\n",
       "   similarity_calculator {\n",
       "     iou_similarity {\n",
       "     }\n",
       "   }\n",
       "   box_predictor {\n",
       "     weight_shared_convolutional_box_predictor {\n",
       "       conv_hyperparams {\n",
       "         regularizer {\n",
       "           l2_regularizer {\n",
       "             weight: 3.9999998989515007e-05\n",
       "           }\n",
       "         }\n",
       "         initializer {\n",
       "           random_normal_initializer {\n",
       "             mean: 0.0\n",
       "             stddev: 0.009999999776482582\n",
       "           }\n",
       "         }\n",
       "         activation: RELU_6\n",
       "         batch_norm {\n",
       "           decay: 0.996999979019165\n",
       "           scale: true\n",
       "           epsilon: 0.0010000000474974513\n",
       "         }\n",
       "       }\n",
       "       depth: 128\n",
       "       num_layers_before_predictor: 4\n",
       "       kernel_size: 3\n",
       "       class_prediction_bias_init: -4.599999904632568\n",
       "       share_prediction_tower: true\n",
       "       use_depthwise: true\n",
       "     }\n",
       "   }\n",
       "   anchor_generator {\n",
       "     multiscale_anchor_generator {\n",
       "       min_level: 3\n",
       "       max_level: 7\n",
       "       anchor_scale: 4.0\n",
       "       aspect_ratios: 1.0\n",
       "       aspect_ratios: 2.0\n",
       "       aspect_ratios: 0.5\n",
       "       scales_per_octave: 2\n",
       "     }\n",
       "   }\n",
       "   post_processing {\n",
       "     batch_non_max_suppression {\n",
       "       score_threshold: 9.99999993922529e-09\n",
       "       iou_threshold: 0.6000000238418579\n",
       "       max_detections_per_class: 100\n",
       "       max_total_detections: 100\n",
       "       use_static_shapes: false\n",
       "     }\n",
       "     score_converter: SIGMOID\n",
       "   }\n",
       "   normalize_loss_by_num_matches: true\n",
       "   loss {\n",
       "     localization_loss {\n",
       "       weighted_smooth_l1 {\n",
       "       }\n",
       "     }\n",
       "     classification_loss {\n",
       "       weighted_sigmoid_focal {\n",
       "         gamma: 2.0\n",
       "         alpha: 0.25\n",
       "       }\n",
       "     }\n",
       "     classification_weight: 1.0\n",
       "     localization_weight: 1.0\n",
       "   }\n",
       "   encode_background_as_zeros: true\n",
       "   normalize_loc_loss_by_codesize: true\n",
       "   inplace_batchnorm_update: true\n",
       "   freeze_batchnorm: false\n",
       " },\n",
       " 'train_config': batch_size: 4\n",
       " data_augmentation_options {\n",
       "   random_horizontal_flip {\n",
       "   }\n",
       " }\n",
       " data_augmentation_options {\n",
       "   random_crop_image {\n",
       "     min_object_covered: 0.0\n",
       "     min_aspect_ratio: 0.75\n",
       "     max_aspect_ratio: 3.0\n",
       "     min_area: 0.75\n",
       "     max_area: 1.0\n",
       "     overlap_thresh: 0.0\n",
       "   }\n",
       " }\n",
       " sync_replicas: true\n",
       " optimizer {\n",
       "   momentum_optimizer {\n",
       "     learning_rate {\n",
       "       cosine_decay_learning_rate {\n",
       "         learning_rate_base: 0.07999999821186066\n",
       "         total_steps: 50000\n",
       "         warmup_learning_rate: 0.026666000485420227\n",
       "         warmup_steps: 1000\n",
       "       }\n",
       "     }\n",
       "     momentum_optimizer_value: 0.8999999761581421\n",
       "   }\n",
       "   use_moving_average: false\n",
       " }\n",
       " fine_tune_checkpoint: \"Tensorflow/workspace/pre-trained-models/ssd_mobilenet_v2_fpnlite_320x320_coco17_tpu-8/checkpoint/ckpt-0\"\n",
       " num_steps: 50000\n",
       " startup_delay_steps: 0.0\n",
       " replicas_to_aggregate: 8\n",
       " max_number_of_boxes: 100\n",
       " unpad_groundtruth_tensors: false\n",
       " fine_tune_checkpoint_type: \"detection\"\n",
       " fine_tune_checkpoint_version: V2,\n",
       " 'train_input_config': label_map_path: \"Tensorflow/workspace/annotations/label_map.pbtxt\"\n",
       " tf_record_input_reader {\n",
       "   input_path: \"Tensorflow/workspace/annotations/train.record\"\n",
       " },\n",
       " 'eval_config': metrics_set: \"coco_detection_metrics\"\n",
       " use_moving_averages: false,\n",
       " 'eval_input_configs': [label_map_path: \"Tensorflow/workspace/annotations/label_map.pbtxt\"\n",
       " shuffle: false\n",
       " num_epochs: 1\n",
       " tf_record_input_reader {\n",
       "   input_path: \"Tensorflow/workspace/annotations/test.record\"\n",
       " }\n",
       " ],\n",
       " 'eval_input_config': label_map_path: \"Tensorflow/workspace/annotations/label_map.pbtxt\"\n",
       " shuffle: false\n",
       " num_epochs: 1\n",
       " tf_record_input_reader {\n",
       "   input_path: \"Tensorflow/workspace/annotations/test.record\"\n",
       " }}"
      ]
     },
     "execution_count": 12,
     "metadata": {},
     "output_type": "execute_result"
    }
   ],
   "source": [
    "config = config_util.get_configs_from_pipeline_file(CONFIG_PATH)\n",
    "config"
   ]
  },
  {
   "cell_type": "code",
   "execution_count": 13,
   "id": "aacde427-f0a0-4395-8aa6-ea261d0f64ee",
   "metadata": {},
   "outputs": [],
   "source": [
    "pipeline_config = pipeline_pb2.TrainEvalPipelineConfig()\n",
    "with tf.io.gfile.GFile(CONFIG_PATH, \"r\") as f:                                                                                                                                                                                                                     \n",
    "    proto_str = f.read()                                                                                                                                                                                                                                          \n",
    "    text_format.Merge(proto_str, pipeline_config)  "
   ]
  },
  {
   "cell_type": "code",
   "execution_count": 14,
   "id": "6c5b9f60-ec0a-4875-9747-2f73819b2ffe",
   "metadata": {},
   "outputs": [],
   "source": [
    "pipeline_config.model.ssd.num_classes = 6\n",
    "pipeline_config.train_config.batch_size = 4\n",
    "pipeline_config.train_config.fine_tune_checkpoint = PRETRAINED_MODEL_PATH+'/ssd_mobilenet_v2_fpnlite_320x320_coco17_tpu-8/checkpoint/ckpt-0'\n",
    "pipeline_config.train_config.fine_tune_checkpoint_type = \"detection\"\n",
    "pipeline_config.train_input_reader.label_map_path = ANNOTATION_PATH + '/label_map.pbtxt'\n",
    "pipeline_config.train_input_reader.tf_record_input_reader.input_path[:] = [ANNOTATION_PATH + '/train.record']\n",
    "pipeline_config.eval_input_reader[0].label_map_path = ANNOTATION_PATH + '/label_map.pbtxt'\n",
    "pipeline_config.eval_input_reader[0].tf_record_input_reader.input_path[:] = [ANNOTATION_PATH + '/test.record']"
   ]
  },
  {
   "cell_type": "code",
   "execution_count": 15,
   "id": "06dce308-cc85-4adb-b468-87551cf28cfd",
   "metadata": {},
   "outputs": [],
   "source": [
    "config_text = text_format.MessageToString(pipeline_config)                                                                                                                                                                                                        \n",
    "with tf.io.gfile.GFile(CONFIG_PATH, \"wb\") as f:                                                                                                                                                                                                                     \n",
    "    f.write(config_text)   "
   ]
  },
  {
   "cell_type": "markdown",
   "id": "766172c0-8a19-4e2d-868e-920961524b17",
   "metadata": {},
   "source": [
    "# Train the Model"
   ]
  },
  {
   "cell_type": "code",
   "execution_count": 16,
   "id": "68e1a41b-5a03-4b6b-bf24-4aabda8b8350",
   "metadata": {
    "scrolled": true
   },
   "outputs": [
    {
     "name": "stdout",
     "output_type": "stream",
     "text": [
      "python Tensorflow/models/research/object_detection/model_main_tf2.py --model_dir=Tensorflow/workspace/models/my_ssd_mobnet --pipeline_config_path=Tensorflow/workspace/models/my_ssd_mobnet/pipeline.config --num_train_steps=10000\n"
     ]
    }
   ],
   "source": [
    "print(\"\"\"python {}/research/object_detection/model_main_tf2.py --model_dir={}/{} --pipeline_config_path={}/{}/pipeline.config --num_train_steps=10000\"\"\".format(APIMODEL_PATH, MODEL_PATH,CUSTOM_MODEL_NAME,MODEL_PATH,CUSTOM_MODEL_NAME))"
   ]
  },
  {
   "cell_type": "markdown",
   "id": "285a98d2-ce1c-4300-ba44-b3d447629769",
   "metadata": {},
   "source": [
    "# Load Trained Model From the Checkpoints"
   ]
  },
  {
   "cell_type": "code",
   "execution_count": 9,
   "id": "3689fe18-20bb-400a-823e-ceaae4c74738",
   "metadata": {},
   "outputs": [],
   "source": [
    "from object_detection.utils import label_map_util\n",
    "from object_detection.utils import visualization_utils as viz_utils\n",
    "from object_detection.builders import model_builder"
   ]
  },
  {
   "cell_type": "markdown",
   "id": "70ab2908-a8cb-4c61-a21e-945ad118e550",
   "metadata": {},
   "source": [
    "# Load pipeline config and build a detection model\n",
    "configs = config_util.get_configs_from_pipeline_file(CONFIG_PATH)\n",
    "detection_model = model_builder.build(model_config=configs['model'], is_training=False)\n",
    "\n",
    "# Restore checkpoint\n",
    "ckpt = tf.compat.v2.train.Checkpoint(model=detection_model)\n",
    "ckpt.restore(os.path.join(CHECKPOINT_PATH, 'ckpt-12')).expect_partial()\n",
    "\n",
    "@tf.function\n",
    "def detect_fn(image):\n",
    "    image, shapes = detection_model.preprocess(image)\n",
    "    prediction_dict = detection_model.predict(image, shapes)\n",
    "    detections = detection_model.postprocess(prediction_dict, shapes)\n",
    "    return detections"
   ]
  },
  {
   "cell_type": "markdown",
   "id": "f415c4b8-537c-4b29-be20-7f18972d436c",
   "metadata": {},
   "source": [
    "# Detect in Real-Time"
   ]
  },
  {
   "cell_type": "code",
   "execution_count": 11,
   "id": "99eb97db-607a-424e-b41f-7e9acbb8d774",
   "metadata": {},
   "outputs": [],
   "source": [
    "category_index = label_map_util.create_category_index_from_labelmap(ANNOTATION_PATH + \"/label_map.pbtxt\")"
   ]
  },
  {
   "cell_type": "code",
   "execution_count": 17,
   "id": "c24bb3dc-0c88-4825-919e-104ad284e555",
   "metadata": {},
   "outputs": [],
   "source": [
    "cap = cv2.VideoCapture(0)\n",
    "width = int(cap.get(cv2.CAP_PROP_FRAME_WIDTH))\n",
    "height = int(cap.get(cv2.CAP_PROP_FRAME_HEIGHT))"
   ]
  },
  {
   "cell_type": "code",
   "execution_count": 18,
   "id": "0f59915b-feaa-4a51-a2aa-bc689f2959a0",
   "metadata": {
    "scrolled": true
   },
   "outputs": [],
   "source": [
    "while True: \n",
    "    ret, frame = cap.read()\n",
    "    image_np = np.array(frame)\n",
    "    \n",
    "    input_tensor = tf.convert_to_tensor(np.expand_dims(image_np, 0), dtype=tf.float32)\n",
    "    detections = detect_fn(input_tensor)\n",
    "    \n",
    "    num_detections = int(detections.pop('num_detections'))\n",
    "    detections = {key: value[0, :num_detections].numpy()\n",
    "                  for key, value in detections.items()}\n",
    "    detections['num_detections'] = num_detections\n",
    "\n",
    "    # detection_classes should be ints.\n",
    "    detections['detection_classes'] = detections['detection_classes'].astype(np.int64)\n",
    "\n",
    "    label_id_offset = 1\n",
    "    image_np_with_detections = image_np.copy()\n",
    "\n",
    "    viz_utils.visualize_boxes_and_labels_on_image_array(\n",
    "                image_np_with_detections,\n",
    "                detections['detection_boxes'],\n",
    "                detections['detection_classes']+label_id_offset,\n",
    "                detections['detection_scores'],\n",
    "                category_index,\n",
    "                use_normalized_coordinates=True,\n",
    "                max_boxes_to_draw=5,\n",
    "                min_score_thresh=.5,\n",
    "                agnostic_mode=False)\n",
    "\n",
    "    cv2.imshow('object detection',  cv2.resize(image_np_with_detections, (800, 600)))\n",
    "    \n",
    "    if cv2.waitKey(1) & 0xFF == ord('q'):\n",
    "        cap.release()\n",
    "        cv2.destroyAllWindows()\n",
    "        break"
   ]
  },
  {
   "cell_type": "code",
   "execution_count": null,
   "id": "bd3a779d-9808-492c-a03a-7f1895f52f66",
   "metadata": {},
   "outputs": [],
   "source": []
  }
 ],
 "metadata": {
  "kernelspec": {
   "display_name": "tfod",
   "language": "python",
   "name": "tfod"
  },
  "language_info": {
   "codemirror_mode": {
    "name": "ipython",
    "version": 3
   },
   "file_extension": ".py",
   "mimetype": "text/x-python",
   "name": "python",
   "nbconvert_exporter": "python",
   "pygments_lexer": "ipython3",
   "version": "3.9.19"
  }
 },
 "nbformat": 4,
 "nbformat_minor": 5
}
